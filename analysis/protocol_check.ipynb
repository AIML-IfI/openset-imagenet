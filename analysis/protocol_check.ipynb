{
 "cells": [
  {
   "cell_type": "code",
   "execution_count": 3,
   "metadata": {},
   "outputs": [],
   "source": [
    "import pandas as pd\n",
    "from pathlib import Path\n",
    "import sys\n",
    "sys.path.append(\"../\")\n",
    "from  src.protocols.protocols import OpenSetProtocol"
   ]
  },
  {
   "cell_type": "code",
   "execution_count": 6,
   "metadata": {},
   "outputs": [
    {
     "name": "stdout",
     "output_type": "stream",
     "text": [
      "--------------- Protocol 1 ------------\n",
      "kn classes: 116\n",
      "kn_unk classes: 67\n",
      "unk_unk classes: 166\n",
      "train size: 185898\n",
      "val size: 46475\n",
      "test size: 17450\n",
      "--------------- Protocol 2 ------------\n",
      "kn classes: 30\n",
      "kn_unk classes: 31\n",
      "unk_unk classes: 55\n",
      "train size: 60689\n",
      "val size: 15173\n",
      "test size: 5800\n",
      "--------------- Protocol 3 ------------\n",
      "kn classes: 151\n",
      "kn_unk classes: 97\n",
      "unk_unk classes: 164\n",
      "train size: 252724\n",
      "val size: 63182\n",
      "test size: 20600\n"
     ]
    }
   ],
   "source": [
    "info_path = Path(\"/local/scratch/datasets/ImageNet/ILSVRC2012/robustness\")\n",
    "root_dir = Path(\"/local/scratch/datasets/ImageNet/ILSVRC2012\")\n",
    "out_dir = Path(\"/local/scratch/palechor/openset-imagenet/data\")\n",
    "\n",
    "def print_data(prt):\n",
    "    print('--------------- Protocol ' + str(prt.protocol) + ' ------------')\n",
    "    print('kn classes:', len(prt.kn_classes))\n",
    "    print('kn_unk classes:', len(prt.neg_classes))\n",
    "    print('unk_unk classes:', len(prt.unk_classes))\n",
    "    print('train size:', len(prt.data['train']))\n",
    "    print('val size:', len(prt.data['val']))\n",
    "    print('test size:', len(prt.data['test']))\n",
    "\n",
    "\n",
    "p1 = OpenSetProtocol(im_root_dir=root_dir, info_path=info_path, protocol=1)\n",
    "p1.create_dataset(random_state=4242)\n",
    "print_data(p1)\n",
    "\n",
    "p2 = OpenSetProtocol(im_root_dir=root_dir, info_path=info_path, protocol=2)\n",
    "p2.create_dataset(random_state=4242)\n",
    "print_data(p2)\n",
    "\n",
    "p3 = OpenSetProtocol(im_root_dir=root_dir, info_path=info_path, protocol=3)\n",
    "p3.create_dataset(random_state=4242)\n",
    "print_data(p3)"
   ]
  },
  {
   "cell_type": "code",
   "execution_count": 11,
   "metadata": {},
   "outputs": [
    {
     "name": "stdout",
     "output_type": "stream",
     "text": [
      "========== Protocol - Train ==========\n",
      "d1 shape: (185898, 2)\n",
      "d2 shape: (185892, 2)\n",
      "same classes: True\n",
      "           label_x  label_y\n",
      "folder                     \n",
      "n02085782      618      617\n",
      "n02088632      909      908\n",
      "n02089078      586      585\n",
      "n02095314      782      781\n",
      "n02095889      749      748\n",
      "n02096437      925      924\n"
     ]
    }
   ],
   "source": [
    "def check_datasets(d1, d2):\n",
    "    d1 = d1.copy()\n",
    "    d2 = d2.copy()\n",
    "    print('d1 shape:', d1.shape)\n",
    "    print('d2 shape:', d2.shape)\n",
    "\n",
    "    # create folder column\n",
    "    d1['folder'] = d1.path.apply(lambda x: x.split('/')[1])\n",
    "    d1 = (d1.groupby('folder').count())\n",
    "    d1 = d1.drop(columns=['path'])\n",
    "    d2['folder'] = d2.path.apply(lambda x: x.split('/')[1])\n",
    "    d2 = (d2.groupby('folder').count())\n",
    "    d2 = d2.drop(columns=['path'])\n",
    "    # check if they have the same classes\n",
    "    print('same classes:', set(d1.index) == set(d2.index))\n",
    "    df = pd.merge(d1, d2, on='folder', how='outer')\n",
    "    print(df[abs(df.label_x - df.label_y) > 0])\n",
    "\n",
    "df1 = pd.DataFrame(p1.data['train'], columns=['path', 'label'])\n",
    "df2 = pd.read_csv('../data/v1/p1_train.csv', names=['path', 'label'])\n",
    "print('========== Protocol - Train ==========')\n",
    "check_datasets(df1, df2)"
   ]
  },
  {
   "cell_type": "code",
   "execution_count": 13,
   "metadata": {},
   "outputs": [
    {
     "name": "stdout",
     "output_type": "stream",
     "text": [
      "========== Protocol - Train ==========\n",
      "d1 shape: (60689, 2)\n",
      "d2 shape: (60684, 2)\n",
      "same classes: True\n",
      "           label_x  label_y\n",
      "folder                     \n",
      "n02088632      909      908\n",
      "n02089078      586      585\n",
      "n02095314      782      781\n",
      "n02095889      749      748\n",
      "n02096437      925      924\n"
     ]
    }
   ],
   "source": [
    "df1 = pd.DataFrame(p2.data['train'], columns=['path', 'label'])\n",
    "df2 = pd.read_csv('../data/v1/p2_train.csv', names=['path', 'label'])\n",
    "print('========== Protocol - Train ==========')\n",
    "check_datasets(df1, df2)"
   ]
  },
  {
   "cell_type": "code",
   "execution_count": 14,
   "metadata": {},
   "outputs": [
    {
     "name": "stdout",
     "output_type": "stream",
     "text": [
      "========== Protocol - Train ==========\n",
      "d1 shape: (252724, 2)\n",
      "d2 shape: (255022, 2)\n",
      "same classes: False\n",
      "           label_x  label_y\n",
      "folder                     \n",
      "n01855032    913.0    912.0\n",
      "n02085782    618.0    617.0\n",
      "n02088632    909.0    908.0\n",
      "n02096437    925.0    924.0\n",
      "n04429376    781.0    780.0\n",
      "n04612504    965.0    964.0\n"
     ]
    }
   ],
   "source": [
    "df1 = pd.DataFrame(p3.data['train'], columns=['path', 'label'])\n",
    "df2 = pd.read_csv('../data/v1/p3_train.csv', names=['path', 'label'])\n",
    "print('========== Protocol - Train ==========')\n",
    "check_datasets(df1, df2)"
   ]
  }
 ],
 "metadata": {
  "kernelspec": {
   "display_name": "Python 3.9.7 ('torch180')",
   "language": "python",
   "name": "python3"
  },
  "language_info": {
   "codemirror_mode": {
    "name": "ipython",
    "version": 3
   },
   "file_extension": ".py",
   "mimetype": "text/x-python",
   "name": "python",
   "nbconvert_exporter": "python",
   "pygments_lexer": "ipython3",
   "version": "3.9.7"
  },
  "orig_nbformat": 4,
  "vscode": {
   "interpreter": {
    "hash": "bee1794b4a3152fb27cd8ffc4b0a6a0e4591af8535aeb3051af568021228b64f"
   }
  }
 },
 "nbformat": 4,
 "nbformat_minor": 2
}
