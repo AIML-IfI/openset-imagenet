{
 "cells": [
  {
   "cell_type": "code",
   "execution_count": 1,
   "metadata": {},
   "outputs": [],
   "source": [
    "import pandas as pd\n",
    "from pathlib import Path\n",
    "import sys\n",
    "sys.path.append(\"../\")\n",
    "from  src.protocols.protocols import OpenSetProtocol"
   ]
  },
  {
   "cell_type": "code",
   "execution_count": 2,
   "metadata": {},
   "outputs": [
    {
     "ename": "TypeError",
     "evalue": "__init__() got an unexpected keyword argument 'im_root_dir'",
     "output_type": "error",
     "traceback": [
      "\u001b[0;31m---------------------------------------------------------------------------\u001b[0m",
      "\u001b[0;31mTypeError\u001b[0m                                 Traceback (most recent call last)",
      "\u001b[0;32m/tmp/ipykernel_36572/542617288.py\u001b[0m in \u001b[0;36m<module>\u001b[0;34m\u001b[0m\n\u001b[1;32m     13\u001b[0m \u001b[0;34m\u001b[0m\u001b[0m\n\u001b[1;32m     14\u001b[0m \u001b[0;34m\u001b[0m\u001b[0m\n\u001b[0;32m---> 15\u001b[0;31m \u001b[0mp1\u001b[0m \u001b[0;34m=\u001b[0m \u001b[0mOpenSetProtocol\u001b[0m\u001b[0;34m(\u001b[0m\u001b[0mim_root_dir\u001b[0m\u001b[0;34m=\u001b[0m\u001b[0mroot_dir\u001b[0m\u001b[0;34m,\u001b[0m \u001b[0minfo_path\u001b[0m\u001b[0;34m=\u001b[0m\u001b[0minfo_path\u001b[0m\u001b[0;34m,\u001b[0m \u001b[0mprotocol\u001b[0m\u001b[0;34m=\u001b[0m\u001b[0;36m1\u001b[0m\u001b[0;34m)\u001b[0m\u001b[0;34m\u001b[0m\u001b[0;34m\u001b[0m\u001b[0m\n\u001b[0m\u001b[1;32m     16\u001b[0m \u001b[0mp1\u001b[0m\u001b[0;34m.\u001b[0m\u001b[0mcreate_dataset\u001b[0m\u001b[0;34m(\u001b[0m\u001b[0mrandom_state\u001b[0m\u001b[0;34m=\u001b[0m\u001b[0;36m4242\u001b[0m\u001b[0;34m)\u001b[0m\u001b[0;34m\u001b[0m\u001b[0;34m\u001b[0m\u001b[0m\n\u001b[1;32m     17\u001b[0m \u001b[0mprint_data\u001b[0m\u001b[0;34m(\u001b[0m\u001b[0mp1\u001b[0m\u001b[0;34m)\u001b[0m\u001b[0;34m\u001b[0m\u001b[0;34m\u001b[0m\u001b[0m\n",
      "\u001b[0;31mTypeError\u001b[0m: __init__() got an unexpected keyword argument 'im_root_dir'"
     ]
    }
   ],
   "source": [
    "info_path = Path(\"/local/scratch/datasets/ImageNet/ILSVRC2012/robustness\")\n",
    "root_dir = Path(\"/local/scratch/datasets/ImageNet/ILSVRC2012\")\n",
    "out_dir = Path(\"/local/scratch/palechor/openset-imagenet/data\")\n",
    "\n",
    "def print_data(prt):\n",
    "    print('--------------- Protocol ' + str(prt.protocol) + ' ------------')\n",
    "    print('kn classes:', len(prt.kn_classes))\n",
    "    print('kn_unk classes:', len(prt.neg_classes))\n",
    "    print('unk_unk classes:', len(prt.unk_classes))\n",
    "    print('train size:', len(prt.data['train']))\n",
    "    print('val size:', len(prt.data['val']))\n",
    "    print('test size:', len(prt.data['test']))\n",
    "\n",
    "\n",
    "p1 = OpenSetProtocol(im_root_dir=root_dir, info_path=info_path, protocol=1)\n",
    "p1.create_dataset(random_state=4242)\n",
    "print_data(p1)\n",
    "\n",
    "p2 = OpenSetProtocol(im_root_dir=root_dir, info_path=info_path, protocol=2)\n",
    "p2.create_dataset(random_state=4242)\n",
    "print_data(p2)\n",
    "\n",
    "p3 = OpenSetProtocol(im_root_dir=root_dir, info_path=info_path, protocol=3)\n",
    "p3.create_dataset(random_state=4242)\n",
    "print_data(p3)"
   ]
  },
  {
   "cell_type": "code",
   "execution_count": 21,
   "metadata": {},
   "outputs": [
    {
     "name": "stdout",
     "output_type": "stream",
     "text": [
      "========== Protocol 1- Train ==========\n",
      "d1 shape: (185898, 2) d2 shape: (185892, 2)\n",
      "same classes: True\n",
      "           samples_df1  samples_df2\n",
      "folder                             \n",
      "n02085782          618          617\n",
      "n02088632          909          908\n",
      "n02089078          586          585\n",
      "n02095314          782          781\n",
      "n02095889          749          748\n",
      "n02096437          925          924\n",
      "========== Protocol 1- Val ==========\n",
      "d1 shape: (46475, 2) d2 shape: (46481, 2)\n",
      "same classes: True\n",
      "           samples_df1  samples_df2\n",
      "folder                             \n",
      "n02085782          154          155\n",
      "n02088632          227          228\n",
      "n02089078          146          147\n",
      "n02095314          195          196\n",
      "n02095889          187          188\n",
      "n02096437          231          232\n",
      "========== Protocol 1- Test ==========\n",
      "d1 shape: (17450, 2) d2 shape: (17450, 2)\n",
      "same classes: True\n",
      "Empty DataFrame\n",
      "Columns: [samples_df1, samples_df2]\n",
      "Index: []\n"
     ]
    }
   ],
   "source": [
    "def check_datasets(d1, d2):\n",
    "    \"\"\"Gets the difference between number of classes between two dataframes\"\"\"\n",
    "    d1 = d1.copy()\n",
    "    d2 = d2.copy()\n",
    "    print('d1 shape:', d1.shape, 'd2 shape:', d2.shape)\n",
    "    # create folder column\n",
    "    d1['folder'] = d1.path.apply(lambda x: x.split('/')[1])\n",
    "    d1 = (d1.groupby('folder').count())\n",
    "    d1 = d1.drop(columns=['path'])\n",
    "    d2['folder'] = d2.path.apply(lambda x: x.split('/')[1])\n",
    "    d2 = (d2.groupby('folder').count())\n",
    "    d2 = d2.drop(columns=['path'])\n",
    "    # check if they have the same classes\n",
    "    print('same classes:', set(d1.index) == set(d2.index))\n",
    "    df = pd.merge(d1, d2, on='folder', how='outer')\n",
    "    df.columns = ['samples_df1', 'samples_df2']\n",
    "    print(df[abs(df.samples_df1 - df.samples_df2) > 0])\n",
    "\n",
    "df1 = pd.DataFrame(p1.data['train'], columns=['path', 'label'])\n",
    "df2 = pd.read_csv('../data/v1/p1_train.csv', names=['path', 'label'])\n",
    "print('========== Protocol 1- Train ==========')\n",
    "check_datasets(df1, df2)\n",
    "\n",
    "df1 = pd.DataFrame(p1.data['val'], columns=['path', 'label'])\n",
    "df2 = pd.read_csv('../data/v1/p1_val.csv', names=['path', 'label'])\n",
    "print('========== Protocol 1- Val ==========')\n",
    "check_datasets(df1, df2)\n",
    "\n",
    "df1 = pd.DataFrame(p1.data['test'], columns=['path', 'label'])\n",
    "df2 = pd.read_csv('../data/v1/p1_test.csv', names=['path', 'label'])\n",
    "print('========== Protocol 1- Test ==========')\n",
    "check_datasets(df1, df2)"
   ]
  },
  {
   "cell_type": "code",
   "execution_count": 22,
   "metadata": {},
   "outputs": [
    {
     "name": "stdout",
     "output_type": "stream",
     "text": [
      "========== Protocol 2- Train ==========\n",
      "d1 shape: (60689, 2) d2 shape: (60684, 2)\n",
      "same classes: True\n",
      "           samples_df1  samples_df2\n",
      "folder                             \n",
      "n02088632          909          908\n",
      "n02089078          586          585\n",
      "n02095314          782          781\n",
      "n02095889          749          748\n",
      "n02096437          925          924\n",
      "========== Protocol 2- Val ==========\n",
      "d1 shape: (15173, 2) d2 shape: (15178, 2)\n",
      "same classes: True\n",
      "           samples_df1  samples_df2\n",
      "folder                             \n",
      "n02088632          227          228\n",
      "n02089078          146          147\n",
      "n02095314          195          196\n",
      "n02095889          187          188\n",
      "n02096437          231          232\n",
      "========== Protocol 2- Test ==========\n",
      "d1 shape: (5800, 2) d2 shape: (5800, 2)\n",
      "same classes: True\n",
      "Empty DataFrame\n",
      "Columns: [samples_df1, samples_df2]\n",
      "Index: []\n"
     ]
    }
   ],
   "source": [
    "df1 = pd.DataFrame(p2.data['train'], columns=['path', 'label'])\n",
    "df2 = pd.read_csv('../data/v1/p2_train.csv', names=['path', 'label'])\n",
    "print('========== Protocol 2- Train ==========')\n",
    "check_datasets(df1, df2)\n",
    "\n",
    "df1 = pd.DataFrame(p2.data['val'], columns=['path', 'label'])\n",
    "df2 = pd.read_csv('../data/v1/p2_val.csv', names=['path', 'label'])\n",
    "print('========== Protocol 2- Val ==========')\n",
    "check_datasets(df1, df2)\n",
    "\n",
    "df1 = pd.DataFrame(p2.data['test'], columns=['path', 'label'])\n",
    "df2 = pd.read_csv('../data/v1/p2_test.csv', names=['path', 'label'])\n",
    "print('========== Protocol 2- Test ==========')\n",
    "check_datasets(df1, df2)"
   ]
  },
  {
   "cell_type": "code",
   "execution_count": 33,
   "metadata": {},
   "outputs": [
    {
     "name": "stdout",
     "output_type": "stream",
     "text": [
      "========== Protocol 3- Train ==========\n",
      "{'n01622779', 'n04344873', 'n01496331', 'n02088364', 'n02033041', 'n03977966', 'n02165105', 'n02107574', 'n02099601', 'n02089973', 'n02493793', 'n02110341', 'n03180011', 'n02190166', 'n02096051', 'n02127052', 'n02088238', 'n13037406', 'n02006656', 'n02007558', 'n02095314', 'n02113023', 'n04037443', 'n02092002', 'n02093859', 'n02870880', 'n02606052', 'n01847000', 'n02095889', 'n02100877', 'n02018207', 'n02093647', 'n02268853', 'n02492035', 'n02281787', 'n02125311', 'n01534433', 'n02009912', 'n03770679', 'n02089078'}\n",
      "{'n02168699', 'n04285008', 'n01843383', 'n01560419', 'n02096177', 'n02100236', 'n02002724', 'n12267677', 'n02492660', 'n03100240', 'n02094258', 'n01614925', 'n02089867', 'n01820546', 'n02655020', 'n02128757', 'n02058221', 'n02107908', 'n02097209', 'n02101556', 'n04099969', 'n03016953', 'n02088094', 'n13040303', 'n02098413', 'n02110627', 'n03832673', 'n01530575', 'n02487347', 'n02109047', 'n02111889', 'n02276258', 'n02105505', 'n02027492', 'n02106550', 'n03662601', 'n02236044', 'n03930630', 'n03290653', 'n02536864', 'n01491361'}\n"
     ]
    }
   ],
   "source": [
    "df1 = pd.DataFrame(p3.data['train'], columns=['path', 'label'])\n",
    "df2 = pd.read_csv('../data/v1/p3_train.csv', names=['path', 'label'])\n",
    "print('========== Protocol 3- Train ==========')\n",
    "#check_datasets(df1, df2)\n",
    "\n",
    "d1 = df1.copy()\n",
    "d2 = df2.copy()\n",
    "#print('d1 shape:', d1.shape, 'd2 shape:', d2.shape)\n",
    "# create folder column\n",
    "d1['folder'] = d1.path.apply(lambda x: x.split('/')[1])\n",
    "d1 = (d1.groupby('folder').count())\n",
    "d1 = d1.drop(columns=['path'])\n",
    "d2['folder'] = d2.path.apply(lambda x: x.split('/')[1])\n",
    "d2 = (d2.groupby('folder').count())\n",
    "d2 = d2.drop(columns=['path'])\n",
    "# check if they have the same classes\n",
    "#print('same classes:', set(d1.index) == set(d2.index))\n",
    "c1 = set(d1.index)\n",
    "c2 = set(d2.index)\n",
    "print(c1.difference(c2))\n",
    "print(c2.difference(c1))\n",
    "\n",
    "df = pd.merge(d1, d2, on='folder', how='outer')\n",
    "df.columns = ['samples_df1', 'samples_df2']\n",
    "#print(df[abs(df.samples_df1 - df.samples_df2) > 0])"
   ]
  }
 ],
 "metadata": {
  "kernelspec": {
   "display_name": "Python 3.9.7 ('torch180')",
   "language": "python",
   "name": "python3"
  },
  "language_info": {
   "codemirror_mode": {
    "name": "ipython",
    "version": 3
   },
   "file_extension": ".py",
   "mimetype": "text/x-python",
   "name": "python",
   "nbconvert_exporter": "python",
   "pygments_lexer": "ipython3",
   "version": "3.9.7"
  },
  "orig_nbformat": 4,
  "vscode": {
   "interpreter": {
    "hash": "bee1794b4a3152fb27cd8ffc4b0a6a0e4591af8535aeb3051af568021228b64f"
   }
  }
 },
 "nbformat": 4,
 "nbformat_minor": 2
}
